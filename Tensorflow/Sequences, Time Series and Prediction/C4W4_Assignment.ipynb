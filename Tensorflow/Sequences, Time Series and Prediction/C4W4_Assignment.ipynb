{
  "cells": [
    {
      "cell_type": "markdown",
      "metadata": {
        "id": "view-in-github",
        "colab_type": "text"
      },
      "source": [
        "<a href=\"https://colab.research.google.com/github/OleksiiLatypov/DRU_Data_Science_Fundamentals/blob/main/Tensorflow/Sequences%2C%20Time%20Series%20and%20Prediction/C4W4_Assignment.ipynb\" target=\"_parent\"><img src=\"https://colab.research.google.com/assets/colab-badge.svg\" alt=\"Open In Colab\"/></a>"
      ]
    },
    {
      "cell_type": "markdown",
      "metadata": {
        "id": "HQIIDstoimTv"
      },
      "source": [
        "# Week 4: Using real world data\n",
        "\n",
        "Welcome! So far you have worked exclusively with generated data. This time you will be using the [Daily Minimum Temperatures in Melbourne](https://github.com/jbrownlee/Datasets/blob/master/daily-min-temperatures.csv) dataset which contains data of the daily minimum temperatures recorded in Melbourne from 1981 to 1990. In addition to be using Tensorflow's layers for processing sequence data such as Recurrent layers or LSTMs you will also use Convolutional layers to improve the model's performance.\n",
        "\n",
        "Let's get started!"
      ]
    },
    {
      "cell_type": "markdown",
      "metadata": {
        "id": "vl0YWjvwimTv"
      },
      "source": [
        "_**NOTE:** To prevent errors from the autograder, you are not allowed to edit or delete some of the cells in this notebook . Please only put your solutions in between the `### START CODE HERE` and `### END CODE HERE` code comments, and also refrain from adding any new cells. **Once you have passed this assignment** and want to experiment with any of the locked cells, you may follow the instructions at the bottom of this notebook._"
      ]
    },
    {
      "cell_type": "code",
      "execution_count": null,
      "metadata": {
        "deletable": false,
        "editable": false,
        "id": "56XEQOGknrAk"
      },
      "outputs": [],
      "source": [
        "import csv\n",
        "import pickle\n",
        "import numpy as np\n",
        "import tensorflow as tf\n",
        "import matplotlib.pyplot as plt\n",
        "from dataclasses import dataclass\n",
        "from absl import logging\n",
        "logging.set_verbosity(logging.ERROR)"
      ]
    },
    {
      "cell_type": "markdown",
      "metadata": {
        "id": "DtUvD1-ZimTw"
      },
      "source": [
        "Begin by looking at the structure of the csv that contains the data:"
      ]
    },
    {
      "cell_type": "code",
      "execution_count": null,
      "metadata": {
        "deletable": false,
        "editable": false,
        "id": "Zqn8p0ZNimTw",
        "outputId": "c92c1f43-becf-476e-9e68-5da22a90892d"
      },
      "outputs": [
        {
          "name": "stdout",
          "output_type": "stream",
          "text": [
            "Header looks like this:\n",
            "\n",
            "\"Date\",\"Temp\"\n",
            "\n",
            "First data point looks like this:\n",
            "\n",
            "\"1981-01-01\",20.7\n",
            "\n",
            "Second data point looks like this:\n",
            "\n",
            "\"1981-01-02\",17.9\n",
            "\n"
          ]
        }
      ],
      "source": [
        "TEMPERATURES_CSV = './data/daily-min-temperatures.csv'\n",
        "\n",
        "with open(TEMPERATURES_CSV, 'r') as csvfile:\n",
        "    print(f\"Header looks like this:\\n\\n{csvfile.readline()}\")\n",
        "    print(f\"First data point looks like this:\\n\\n{csvfile.readline()}\")\n",
        "    print(f\"Second data point looks like this:\\n\\n{csvfile.readline()}\")"
      ]
    },
    {
      "cell_type": "markdown",
      "metadata": {
        "id": "vuhkoQ6limTw"
      },
      "source": [
        "As you can see, each data point is composed of the date and the recorded minimum temperature for that date.\n",
        "\n",
        "\n",
        "In the first exercise you will code a function to read the data from the csv but for now run the next cell to load a helper function to plot the time series."
      ]
    },
    {
      "cell_type": "code",
      "execution_count": null,
      "metadata": {
        "deletable": false,
        "editable": false,
        "id": "sLl52leVp5wU"
      },
      "outputs": [],
      "source": [
        "def plot_series(time, series, format=\"-\", start=0, end=None):\n",
        "    plt.plot(time[start:end], series[start:end], format)\n",
        "    plt.xlabel(\"Time\")\n",
        "    plt.ylabel(\"Value\")\n",
        "    plt.grid(True)"
      ]
    },
    {
      "cell_type": "markdown",
      "metadata": {
        "id": "NOMCKGAfimTw"
      },
      "source": [
        "## Parsing the raw data\n",
        "Now you need to read the data from the csv file. To do so, complete the `parse_data_from_file` function.\n",
        "\n",
        "A couple of things to note:\n",
        "\n",
        "- You should omit the first line as the file contains headers.\n",
        "- There is no need to save the data points as numpy arrays, regular lists is fine.\n",
        "- To read from csv files use `csv.reader` by passing the appropriate arguments.\n",
        "- `csv.reader` returns an iterable that returns each row in every iteration. So the temperature can be accessed via row[1] and the date can be discarded.\n",
        "- The `times` list should contain every timestep (starting at zero), which is just a sequence of ordered numbers with the same length as the `temperatures` list.\n",
        "- The values of the `temperatures` should be of `float` type. You can use Python's built-in `float` function to ensure this."
      ]
    },
    {
      "cell_type": "code",
      "execution_count": null,
      "metadata": {
        "deletable": false,
        "id": "NcG9r1eClbTh"
      },
      "outputs": [],
      "source": [
        "def parse_data_from_file(filename):\n",
        "\n",
        "    times = []\n",
        "    temperatures = []\n",
        "\n",
        "    with open(filename) as csvfile:\n",
        "\n",
        "        ### START CODE HERE\n",
        "\n",
        "        reader = csv.reader(csvfile, delimiter=',')\n",
        "        next(reader)\n",
        "        count = 0\n",
        "        for row in reader:\n",
        "            count += 1\n",
        "            times.append(count)\n",
        "            temperatures.append(float(row[1]))\n",
        "        ### END CODE HERE\n",
        "\n",
        "    return times, temperatures"
      ]
    },
    {
      "cell_type": "markdown",
      "metadata": {
        "id": "du9PChMaimTx"
      },
      "source": [
        "The next cell will use your function to compute the `times` and `temperatures` and will save these as numpy arrays within the `G` dataclass. This cell will also plot the time series:"
      ]
    },
    {
      "cell_type": "code",
      "execution_count": null,
      "metadata": {
        "deletable": false,
        "editable": false,
        "id": "Dja_dbTeimTx",
        "outputId": "9d1066e6-3e33-44ca-8280-15e167668a0a"
      },
      "outputs": [
        {
          "data": {
            "image/png": "[encoded data removed]",
            "text/plain": [
              "<Figure size 720x432 with 1 Axes>"
            ]
          },
          "metadata": {
            "needs_background": "light"
          },
          "output_type": "display_data"
        }
      ],
      "source": [
        "# Test your function and save all \"global\" variables within the G class (G stands for global)\n",
        "@dataclass\n",
        "class G:\n",
        "    TEMPERATURES_CSV = './data/daily-min-temperatures.csv'\n",
        "    times, temperatures = parse_data_from_file(TEMPERATURES_CSV)\n",
        "    TIME = np.array(times)\n",
        "    SERIES = np.array(temperatures)\n",
        "    SPLIT_TIME = 2500\n",
        "    WINDOW_SIZE = 64\n",
        "    BATCH_SIZE = 32\n",
        "    SHUFFLE_BUFFER_SIZE = 1000\n",
        "\n",
        "\n",
        "plt.figure(figsize=(10, 6))\n",
        "plot_series(G.TIME, G.SERIES)\n",
        "plt.show()"
      ]
    },
    {
      "cell_type": "markdown",
      "metadata": {
        "id": "okM5gLdCimTx"
      },
      "source": [
        "**Expected Output:**\n",
        "<div>\n",
        "<img src=\"images/temp-series.png\" width=\"500\"/>\n",
        "</div>"
      ]
    },
    {
      "cell_type": "markdown",
      "metadata": {
        "id": "vmjkKiYOimTx"
      },
      "source": [
        "## Processing the data\n",
        "\n",
        "Since you already coded the `train_val_split` and `windowed_dataset` functions during past week's assignments, this time they are provided for you:"
      ]
    },
    {
      "cell_type": "code",
      "execution_count": null,
      "metadata": {
        "deletable": false,
        "editable": false,
        "id": "JqMgFSnximTx"
      },
      "outputs": [],
      "source": [
        "def train_val_split(time, series, time_step=G.SPLIT_TIME):\n",
        "\n",
        "    time_train = time[:time_step]\n",
        "    series_train = series[:time_step]\n",
        "    time_valid = time[time_step:]\n",
        "    series_valid = series[time_step:]\n",
        "\n",
        "    return time_train, series_train, time_valid, series_valid\n",
        "\n",
        "\n",
        "# Split the dataset\n",
        "time_train, series_train, time_valid, series_valid = train_val_split(G.TIME, G.SERIES)"
      ]
    },
    {
      "cell_type": "code",
      "execution_count": null,
      "metadata": {
        "deletable": false,
        "editable": false,
        "id": "lJwUUZscnG38"
      },
      "outputs": [],
      "source": [
        "def windowed_dataset(series, window_size=G.WINDOW_SIZE, batch_size=G.BATCH_SIZE, shuffle_buffer=G.SHUFFLE_BUFFER_SIZE):\n",
        "    ds = tf.data.Dataset.from_tensor_slices(series)\n",
        "    ds = ds.window(window_size + 1, shift=1, drop_remainder=True)\n",
        "    ds = ds.flat_map(lambda w: w.batch(window_size + 1))\n",
        "    ds = ds.shuffle(shuffle_buffer)\n",
        "    ds = ds.map(lambda w: (w[:-1], w[-1]))\n",
        "    ds = ds.batch(batch_size).prefetch(1)\n",
        "    return ds\n",
        "\n",
        "\n",
        "# Apply the transformation to the training set\n",
        "train_set = windowed_dataset(series_train, window_size=G.WINDOW_SIZE, batch_size=G.BATCH_SIZE, shuffle_buffer=G.SHUFFLE_BUFFER_SIZE)"
      ]
    },
    {
      "cell_type": "markdown",
      "metadata": {
        "id": "mBE7HJSFimTx"
      },
      "source": [
        "## Defining the model architecture\n",
        "\n",
        "Now that you have a function that will process the data before it is fed into your neural network for training, it is time to define your layer architecture. Just as in last week's assignment you will do the layer definition and compilation in two separate steps. Begin by completing the `create_uncompiled_model` function below.\n",
        "\n",
        "This is done so you can reuse your model's layers for the learning rate adjusting and the actual training.\n",
        "\n",
        "Hint:\n",
        "\n",
        "- `Lambda` layers are not required.\n",
        "- Use a combination of `Conv1D` and `LSTM` layers followed by `Dense` layers"
      ]
    },
    {
      "cell_type": "code",
      "execution_count": null,
      "metadata": {
        "deletable": false,
        "id": "oWHCPn7TimTx"
      },
      "outputs": [],
      "source": [
        "def create_uncompiled_model():\n",
        "\n",
        "    ### START CODE HERE\n",
        "\n",
        "    model = tf.keras.models.Sequential([\n",
        "        tf.keras.layers.Conv1D(filters=32, kernel_size=5, strides=1, padding='causal',\\\n",
        "                               activation='relu', input_shape=[None, 1]),\n",
        "        tf.keras.layers.Bidirectional(tf.keras.layers.LSTM(32, return_sequences=True)),\n",
        "        tf.keras.layers.Bidirectional(tf.keras.layers.LSTM(32)),\n",
        "        tf.keras.layers.Dense(1)\n",
        "    ])\n",
        "\n",
        "    ### END CODE HERE\n",
        "\n",
        "    return model"
      ]
    },
    {
      "cell_type": "markdown",
      "metadata": {
        "id": "mCUhhD2ximTx"
      },
      "source": [
        "You can test your model with the code below. If you get an error, it's likely that your model is returning a sequence. You can indeed use an LSTM with `return_sequences=True` but you have to feed it into another layer that generates a single prediction. You can review the lectures or the previous ungraded labs to see how that is done."
      ]
    },
    {
      "cell_type": "code",
      "execution_count": null,
      "metadata": {
        "deletable": false,
        "editable": false,
        "id": "g0HIKVWpimTx",
        "outputId": "d6e82cc5-882c-4575-abe5-790bd5f5929a"
      },
      "outputs": [
        {
          "name": "stdout",
          "output_type": "stream",
          "text": [
            "Testing model prediction with input of shape (32, 64)...\n",
            "Your current architecture is compatible with the windowed dataset! :)\n"
          ]
        }
      ],
      "source": [
        "# Test your uncompiled model\n",
        "\n",
        "# Create an instance of the model\n",
        "uncompiled_model = create_uncompiled_model()\n",
        "\n",
        "# Get one batch of the training set(X = input, y = label)\n",
        "for X, y in train_set.take(1):\n",
        "\n",
        "    # Generate a prediction\n",
        "    print(f'Testing model prediction with input of shape {X.shape}...')\n",
        "    y_pred = uncompiled_model.predict(X)\n",
        "\n",
        "# Compare the shape of the prediction and the label y (remove dimensions of size 1)\n",
        "y_pred_shape = y_pred.squeeze().shape\n",
        "\n",
        "assert y_pred_shape == y.shape, (f'Squeezed predicted y shape = {y_pred_shape} '\n",
        "                                           f'whereas actual y shape = {y.shape}.')\n",
        "\n",
        "print(\"Your current architecture is compatible with the windowed dataset! :)\")"
      ]
    },
    {
      "cell_type": "markdown",
      "metadata": {
        "id": "vzivv2wsimTy"
      },
      "source": [
        "## Adjusting the learning rate - (Optional Exercise)\n",
        "\n",
        "As you saw in the lectures, you can leverage Tensorflow's callbacks to dynamically vary the learning rate before doing the actual training. This can be helpful in finding what value works best with your model. Note that this is only one way of finding the best learning rate. There are other techniques for hyperparameter optimization but it is outside the scope of this course.\n",
        "\n",
        "For the optimizers you can try out:\n",
        "\n",
        "- tf.keras.optimizers.Adam\n",
        "- tf.keras.optimizers.SGD with a momentum of 0.9"
      ]
    },
    {
      "cell_type": "code",
      "execution_count": null,
      "metadata": {
        "deletable": false,
        "id": "cpBoIc19imTy"
      },
      "outputs": [],
      "source": [
        "def adjust_learning_rate(dataset):\n",
        "\n",
        "    model = create_uncompiled_model()\n",
        "\n",
        "    lr_schedule = tf.keras.callbacks.LearningRateScheduler(lambda epoch: 1e-4 * 10**(epoch / 20))\n",
        "\n",
        "    ### START CODE HERE\n",
        "\n",
        "    # Select your optimizer\n",
        "    optimizer = tf.keras.optimizers.Adam()\n",
        "\n",
        "    # Compile the model passing in the appropriate loss\n",
        "    model.compile(loss=tf.keras.losses.Huber(),\n",
        "                  optimizer=optimizer,\n",
        "                  metrics=[\"mae\"])\n",
        "\n",
        "    ### END CODE HERE\n",
        "\n",
        "    history = model.fit(dataset, epochs=100, callbacks=[lr_schedule])\n",
        "\n",
        "    return history"
      ]
    },
    {
      "cell_type": "code",
      "execution_count": null,
      "metadata": {
        "deletable": false,
        "editable": false,
        "id": "ACrYR0LUimTy",
        "outputId": "71c9c82e-406f-4dde-bc3b-59fb58d5169d"
      },
      "outputs": [
        {
          "name": "stdout",
          "output_type": "stream",
          "text": [
            "Epoch 1/100\n",
            "77/77 [==============================] - 23s 218ms/step - loss: 9.1151 - mae: 9.6134 - lr: 1.0000e-04\n",
            "Epoch 2/100\n",
            "77/77 [==============================] - 15s 199ms/step - loss: 5.6802 - mae: 6.1682 - lr: 1.1220e-04\n",
            "Epoch 3/100\n",
            "77/77 [==============================] - 15s 200ms/step - loss: 3.3288 - mae: 3.8020 - lr: 1.2589e-04\n",
            "Epoch 4/100\n",
            "77/77 [==============================] - 16s 204ms/step - loss: 2.7158 - mae: 3.1814 - lr: 1.4125e-04\n",
            "Epoch 5/100\n",
            "77/77 [==============================] - 16s 201ms/step - loss: 2.4117 - mae: 2.8702 - lr: 1.5849e-04\n",
            "Epoch 6/100\n",
            "77/77 [==============================] - 15s 199ms/step - loss: 2.0859 - mae: 2.5400 - lr: 1.7783e-04\n",
            "Epoch 7/100\n",
            "77/77 [==============================] - 16s 204ms/step - loss: 1.9556 - mae: 2.4092 - lr: 1.9953e-04\n",
            "Epoch 8/100\n",
            "77/77 [==============================] - 14s 186ms/step - loss: 1.8778 - mae: 2.3312 - lr: 2.2387e-04\n",
            "Epoch 9/100\n",
            "77/77 [==============================] - 15s 191ms/step - loss: 1.8123 - mae: 2.2619 - lr: 2.5119e-04\n",
            "Epoch 10/100\n",
            "77/77 [==============================] - 16s 201ms/step - loss: 1.7689 - mae: 2.2191 - lr: 2.8184e-04\n",
            "Epoch 11/100\n",
            "77/77 [==============================] - 16s 207ms/step - loss: 1.7462 - mae: 2.1964 - lr: 3.1623e-04\n",
            "Epoch 12/100\n",
            "77/77 [==============================] - 16s 213ms/step - loss: 1.6889 - mae: 2.1368 - lr: 3.5481e-04\n",
            "Epoch 13/100\n",
            "77/77 [==============================] - 17s 216ms/step - loss: 1.6722 - mae: 2.1165 - lr: 3.9811e-04\n",
            "Epoch 14/100\n",
            "77/77 [==============================] - 16s 204ms/step - loss: 1.6353 - mae: 2.0809 - lr: 4.4668e-04\n",
            "Epoch 15/100\n",
            "77/77 [==============================] - 14s 176ms/step - loss: 1.6020 - mae: 2.0477 - lr: 5.0119e-04\n",
            "Epoch 16/100\n",
            "77/77 [==============================] - 14s 179ms/step - loss: 1.5706 - mae: 2.0143 - lr: 5.6234e-04\n",
            "Epoch 17/100\n",
            "77/77 [==============================] - 15s 199ms/step - loss: 1.6219 - mae: 2.0670 - lr: 6.3096e-04\n",
            "Epoch 18/100\n",
            "77/77 [==============================] - 15s 191ms/step - loss: 1.5793 - mae: 2.0209 - lr: 7.0795e-04\n",
            "Epoch 19/100\n",
            "77/77 [==============================] - 15s 200ms/step - loss: 1.5530 - mae: 1.9964 - lr: 7.9433e-04\n",
            "Epoch 20/100\n",
            "77/77 [==============================] - 16s 203ms/step - loss: 1.5757 - mae: 2.0195 - lr: 8.9125e-04\n",
            "Epoch 21/100\n",
            "77/77 [==============================] - 17s 219ms/step - loss: 1.5795 - mae: 2.0226 - lr: 0.0010\n",
            "Epoch 22/100\n",
            "77/77 [==============================] - 15s 197ms/step - loss: 1.5468 - mae: 1.9908 - lr: 0.0011\n",
            "Epoch 23/100\n",
            "77/77 [==============================] - 17s 222ms/step - loss: 1.5366 - mae: 1.9781 - lr: 0.0013\n",
            "Epoch 24/100\n",
            "77/77 [==============================] - 16s 204ms/step - loss: 1.5272 - mae: 1.9681 - lr: 0.0014\n",
            "Epoch 25/100\n",
            "77/77 [==============================] - 15s 200ms/step - loss: 1.6371 - mae: 2.0876 - lr: 0.0016\n",
            "Epoch 26/100\n",
            "77/77 [==============================] - 16s 208ms/step - loss: 1.5122 - mae: 1.9532 - lr: 0.0018\n",
            "Epoch 27/100\n",
            "77/77 [==============================] - 16s 211ms/step - loss: 1.5447 - mae: 1.9880 - lr: 0.0020\n",
            "Epoch 28/100\n",
            "77/77 [==============================] - 16s 206ms/step - loss: 1.5277 - mae: 1.9719 - lr: 0.0022\n",
            "Epoch 29/100\n",
            "77/77 [==============================] - 16s 209ms/step - loss: 1.5830 - mae: 2.0269 - lr: 0.0025\n",
            "Epoch 30/100\n",
            "77/77 [==============================] - 16s 209ms/step - loss: 1.5294 - mae: 1.9721 - lr: 0.0028\n",
            "Epoch 31/100\n",
            "77/77 [==============================] - 15s 200ms/step - loss: 1.5664 - mae: 2.0090 - lr: 0.0032\n",
            "Epoch 32/100\n",
            "77/77 [==============================] - 16s 204ms/step - loss: 1.4981 - mae: 1.9392 - lr: 0.0035\n",
            "Epoch 33/100\n",
            "77/77 [==============================] - 16s 201ms/step - loss: 1.5547 - mae: 1.9968 - lr: 0.0040\n",
            "Epoch 34/100\n",
            "77/77 [==============================] - 15s 200ms/step - loss: 1.5510 - mae: 1.9941 - lr: 0.0045\n",
            "Epoch 35/100\n",
            "77/77 [==============================] - 15s 197ms/step - loss: 1.5548 - mae: 2.0001 - lr: 0.0050\n",
            "Epoch 36/100\n",
            "77/77 [==============================] - 15s 201ms/step - loss: 1.5605 - mae: 2.0030 - lr: 0.0056\n",
            "Epoch 37/100\n",
            "77/77 [==============================] - 15s 189ms/step - loss: 1.5630 - mae: 2.0059 - lr: 0.0063\n",
            "Epoch 38/100\n",
            "77/77 [==============================] - 15s 198ms/step - loss: 1.5648 - mae: 2.0083 - lr: 0.0071\n",
            "Epoch 39/100\n",
            "77/77 [==============================] - 16s 202ms/step - loss: 1.6340 - mae: 2.0814 - lr: 0.0079\n",
            "Epoch 40/100\n",
            "77/77 [==============================] - 14s 181ms/step - loss: 1.5502 - mae: 1.9923 - lr: 0.0089\n",
            "Epoch 41/100\n",
            "77/77 [==============================] - 15s 197ms/step - loss: 1.5995 - mae: 2.0440 - lr: 0.0100\n",
            "Epoch 42/100\n",
            "77/77 [==============================] - 15s 199ms/step - loss: 1.6391 - mae: 2.0879 - lr: 0.0112\n",
            "Epoch 43/100\n",
            "77/77 [==============================] - 14s 187ms/step - loss: 1.6689 - mae: 2.1137 - lr: 0.0126\n",
            "Epoch 44/100\n",
            "77/77 [==============================] - 16s 201ms/step - loss: 1.5640 - mae: 2.0096 - lr: 0.0141\n",
            "Epoch 45/100\n",
            "77/77 [==============================] - 16s 205ms/step - loss: 1.6323 - mae: 2.0783 - lr: 0.0158\n",
            "Epoch 46/100\n",
            "77/77 [==============================] - 16s 207ms/step - loss: 1.6220 - mae: 2.0693 - lr: 0.0178\n",
            "Epoch 47/100\n",
            "77/77 [==============================] - 16s 203ms/step - loss: 1.6457 - mae: 2.0907 - lr: 0.0200\n",
            "Epoch 48/100\n",
            "77/77 [==============================] - 16s 207ms/step - loss: 1.6040 - mae: 2.0495 - lr: 0.0224\n",
            "Epoch 49/100\n",
            "77/77 [==============================] - 16s 213ms/step - loss: 1.6538 - mae: 2.1010 - lr: 0.0251\n",
            "Epoch 50/100\n",
            "77/77 [==============================] - 16s 212ms/step - loss: 1.7403 - mae: 2.1901 - lr: 0.0282\n",
            "Epoch 51/100\n",
            "77/77 [==============================] - 17s 214ms/step - loss: 1.8132 - mae: 2.2647 - lr: 0.0316\n",
            "Epoch 52/100\n",
            "77/77 [==============================] - 17s 220ms/step - loss: 1.7959 - mae: 2.2459 - lr: 0.0355\n",
            "Epoch 53/100\n",
            "77/77 [==============================] - 17s 222ms/step - loss: 1.7290 - mae: 2.1789 - lr: 0.0398\n",
            "Epoch 54/100\n",
            "77/77 [==============================] - 17s 224ms/step - loss: 1.7770 - mae: 2.2293 - lr: 0.0447\n",
            "Epoch 55/100\n",
            "77/77 [==============================] - 17s 227ms/step - loss: 1.7164 - mae: 2.1679 - lr: 0.0501\n",
            "Epoch 56/100\n",
            "77/77 [==============================] - 17s 225ms/step - loss: 1.8667 - mae: 2.3222 - lr: 0.0562\n",
            "Epoch 57/100\n",
            "77/77 [==============================] - 17s 218ms/step - loss: 1.7839 - mae: 2.2338 - lr: 0.0631\n",
            "Epoch 58/100\n",
            "77/77 [==============================] - 17s 217ms/step - loss: 1.9025 - mae: 2.3554 - lr: 0.0708\n",
            "Epoch 59/100\n",
            "77/77 [==============================] - 17s 221ms/step - loss: 2.7667 - mae: 3.2373 - lr: 0.0794\n",
            "Epoch 60/100\n",
            "77/77 [==============================] - 17s 215ms/step - loss: 2.6802 - mae: 3.1475 - lr: 0.0891\n",
            "Epoch 61/100\n",
            "77/77 [==============================] - 16s 213ms/step - loss: 2.8103 - mae: 3.2761 - lr: 0.1000\n",
            "Epoch 62/100\n",
            "77/77 [==============================] - 17s 223ms/step - loss: 2.7801 - mae: 3.2471 - lr: 0.1122\n",
            "Epoch 63/100\n",
            "77/77 [==============================] - 17s 221ms/step - loss: 2.7727 - mae: 3.2376 - lr: 0.1259\n",
            "Epoch 64/100\n",
            "77/77 [==============================] - 17s 216ms/step - loss: 2.7389 - mae: 3.2063 - lr: 0.1413\n",
            "Epoch 65/100\n",
            "77/77 [==============================] - 17s 217ms/step - loss: 2.8502 - mae: 3.3185 - lr: 0.1585\n",
            "Epoch 66/100\n",
            "77/77 [==============================] - 17s 216ms/step - loss: 2.8779 - mae: 3.3450 - lr: 0.1778\n",
            "Epoch 67/100\n",
            "77/77 [==============================] - 17s 217ms/step - loss: 2.7737 - mae: 3.2446 - lr: 0.1995\n",
            "Epoch 68/100\n",
            "77/77 [==============================] - 17s 219ms/step - loss: 2.8251 - mae: 3.2941 - lr: 0.2239\n",
            "Epoch 69/100\n",
            "77/77 [==============================] - 17s 220ms/step - loss: 2.7553 - mae: 3.2214 - lr: 0.2512\n",
            "Epoch 70/100\n",
            "77/77 [==============================] - 17s 219ms/step - loss: 2.8714 - mae: 3.3400 - lr: 0.2818\n",
            "Epoch 71/100\n",
            "77/77 [==============================] - 16s 213ms/step - loss: 3.0021 - mae: 3.4737 - lr: 0.3162\n",
            "Epoch 72/100\n",
            "77/77 [==============================] - 16s 209ms/step - loss: 3.1904 - mae: 3.6607 - lr: 0.3548\n",
            "Epoch 73/100\n",
            "77/77 [==============================] - 16s 205ms/step - loss: 2.8989 - mae: 3.3690 - lr: 0.3981\n",
            "Epoch 74/100\n",
            "77/77 [==============================] - 16s 211ms/step - loss: 2.9152 - mae: 3.3819 - lr: 0.4467\n",
            "Epoch 75/100\n",
            "77/77 [==============================] - 16s 207ms/step - loss: 2.9341 - mae: 3.4049 - lr: 0.5012\n",
            "Epoch 76/100\n",
            "77/77 [==============================] - 16s 207ms/step - loss: 3.0253 - mae: 3.4948 - lr: 0.5623\n",
            "Epoch 77/100\n",
            "77/77 [==============================] - 16s 204ms/step - loss: 3.0460 - mae: 3.5191 - lr: 0.6310\n",
            "Epoch 78/100\n",
            "77/77 [==============================] - 16s 209ms/step - loss: 2.8782 - mae: 3.3470 - lr: 0.7079\n",
            "Epoch 79/100\n",
            "77/77 [==============================] - 16s 206ms/step - loss: 2.9945 - mae: 3.4647 - lr: 0.7943\n",
            "Epoch 80/100\n",
            "77/77 [==============================] - 16s 207ms/step - loss: 2.9092 - mae: 3.3768 - lr: 0.8913\n",
            "Epoch 81/100\n",
            "77/77 [==============================] - 16s 205ms/step - loss: 3.2210 - mae: 3.6932 - lr: 1.0000\n",
            "Epoch 82/100\n",
            "77/77 [==============================] - 16s 208ms/step - loss: 3.1505 - mae: 3.6227 - lr: 1.1220\n",
            "Epoch 83/100\n",
            "77/77 [==============================] - 16s 209ms/step - loss: 2.9476 - mae: 3.4157 - lr: 1.2589\n",
            "Epoch 84/100\n",
            "77/77 [==============================] - 16s 213ms/step - loss: 3.0927 - mae: 3.5636 - lr: 1.4125\n",
            "Epoch 85/100\n",
            "77/77 [==============================] - 17s 218ms/step - loss: 3.6827 - mae: 4.1541 - lr: 1.5849\n",
            "Epoch 86/100\n",
            "77/77 [==============================] - 16s 205ms/step - loss: 3.2522 - mae: 3.7244 - lr: 1.7783\n",
            "Epoch 87/100\n",
            "77/77 [==============================] - 16s 205ms/step - loss: 3.5587 - mae: 4.0330 - lr: 1.9953\n",
            "Epoch 88/100\n",
            "77/77 [==============================] - 17s 215ms/step - loss: 3.5414 - mae: 4.0161 - lr: 2.2387\n",
            "Epoch 89/100\n",
            "77/77 [==============================] - 17s 216ms/step - loss: 3.6936 - mae: 4.1675 - lr: 2.5119\n",
            "Epoch 90/100\n",
            "77/77 [==============================] - 16s 209ms/step - loss: 3.3718 - mae: 3.8434 - lr: 2.8184\n",
            "Epoch 91/100\n",
            "77/77 [==============================] - 16s 202ms/step - loss: 3.7409 - mae: 4.2170 - lr: 3.1623\n",
            "Epoch 92/100\n",
            "77/77 [==============================] - 16s 201ms/step - loss: 4.2928 - mae: 4.7701 - lr: 3.5481\n",
            "Epoch 93/100\n",
            "77/77 [==============================] - 16s 203ms/step - loss: 4.2257 - mae: 4.7055 - lr: 3.9811\n",
            "Epoch 94/100\n",
            "77/77 [==============================] - 16s 205ms/step - loss: 4.7949 - mae: 5.2749 - lr: 4.4668\n",
            "Epoch 95/100\n",
            "77/77 [==============================] - 16s 206ms/step - loss: 5.9697 - mae: 6.4536 - lr: 5.0119\n",
            "Epoch 96/100\n",
            "77/77 [==============================] - 16s 205ms/step - loss: 13.1045 - mae: 13.6024 - lr: 5.6234\n",
            "Epoch 97/100\n",
            "77/77 [==============================] - 16s 210ms/step - loss: 5.1102 - mae: 5.5884 - lr: 6.3096\n",
            "Epoch 98/100\n",
            "77/77 [==============================] - 16s 207ms/step - loss: 6.2040 - mae: 6.6903 - lr: 7.0795\n",
            "Epoch 99/100\n",
            "77/77 [==============================] - 16s 208ms/step - loss: 8.8701 - mae: 9.3615 - lr: 7.9433\n",
            "Epoch 100/100\n",
            "77/77 [==============================] - 17s 226ms/step - loss: 11.2777 - mae: 11.7735 - lr: 8.9125\n"
          ]
        }
      ],
      "source": [
        "# Run the training with dynamic LR\n",
        "lr_history = adjust_learning_rate(train_set)"
      ]
    },
    {
      "cell_type": "code",
      "execution_count": null,
      "metadata": {
        "colab": {
          "base_uri": "https://localhost:8080/",
          "height": 290
        },
        "deletable": false,
        "editable": false,
        "id": "vVcKmg7Q_7rD",
        "outputId": "27cf16ae-eb85-47c3-fc86-18e72e528619"
      },
      "outputs": [
        {
          "data": {
            "text/plain": [
              "(0.0001, 10.0, 0.0, 10.0)"
            ]
          },
          "execution_count": 41,
          "metadata": {},
          "output_type": "execute_result"
        },
        {
          "data": {
            "image/png": "[encoded data removed]",
            "text/plain": [
              "<Figure size 432x288 with 1 Axes>"
            ]
          },
          "metadata": {
            "needs_background": "light"
          },
          "output_type": "display_data"
        }
      ],
      "source": [
        "plt.semilogx(lr_history.history[\"lr\"], lr_history.history[\"loss\"])\n",
        "plt.axis([1e-4, 10, 0, 10])"
      ]
    },
    {
      "cell_type": "markdown",
      "metadata": {
        "id": "FnPM2S2cimTy"
      },
      "source": [
        "## Compiling the model\n",
        "Now that you have trained the model while varying the learning rate, it is time to do the actual training that will be used to forecast the time series. For this complete the `create_model` function below.\n",
        "\n",
        "Notice that you are reusing the architecture you defined in the `create_uncompiled_model` earlier. Now you only need to compile this model using the appropriate loss, optimizer (and learning rate).\n",
        "\n",
        "Hints:\n",
        "\n",
        "- The training should be really quick so if you notice that each epoch is taking more than a few seconds, consider trying a different architecture.\n",
        "\n",
        "\n",
        "- If after the first epoch you get an output like this: loss: nan - mae: nan it is very likely that your network is suffering from exploding gradients. This is a common problem if you used SGD as optimizer and set a learning rate that is too high. If you encounter this problem consider lowering the learning rate or using Adam with the default learning rate."
      ]
    },
    {
      "cell_type": "code",
      "execution_count": null,
      "metadata": {
        "deletable": false,
        "id": "oxor7oz4imTy"
      },
      "outputs": [],
      "source": [
        "def create_model():\n",
        "\n",
        "\n",
        "    model = create_uncompiled_model()\n",
        "\n",
        "    ### START CODE HERE\n",
        "\n",
        "    model.compile(loss=tf.keras.losses.Huber(),\n",
        "                  optimizer=tf.keras.optimizers.Adam(),\n",
        "                  metrics=[\"mae\"])\n",
        "\n",
        "\n",
        "    ### END CODE HERE\n",
        "\n",
        "    return model"
      ]
    },
    {
      "cell_type": "code",
      "execution_count": null,
      "metadata": {
        "deletable": false,
        "id": "SX-M227jimTy",
        "outputId": "85a8501f-6123-436c-a4f0-2a4a6a9ef6fb"
      },
      "outputs": [
        {
          "name": "stdout",
          "output_type": "stream",
          "text": [
            "Epoch 1/50\n",
            "77/77 [==============================] - 21s 197ms/step - loss: 4.6260 - mae: 5.1042\n",
            "Epoch 2/50\n",
            "77/77 [==============================] - 15s 200ms/step - loss: 2.3293 - mae: 2.7883\n",
            "Epoch 3/50\n",
            "77/77 [==============================] - 16s 208ms/step - loss: 1.8559 - mae: 2.3045\n",
            "Epoch 4/50\n",
            "77/77 [==============================] - 15s 193ms/step - loss: 1.7246 - mae: 2.1718\n",
            "Epoch 5/50\n",
            "77/77 [==============================] - 14s 179ms/step - loss: 1.6520 - mae: 2.0988\n",
            "Epoch 6/50\n",
            "77/77 [==============================] - 15s 191ms/step - loss: 1.5909 - mae: 2.0365\n",
            "Epoch 7/50\n",
            "77/77 [==============================] - 14s 177ms/step - loss: 1.5792 - mae: 2.0259\n",
            "Epoch 8/50\n",
            "77/77 [==============================] - 15s 191ms/step - loss: 1.5565 - mae: 1.9968\n",
            "Epoch 9/50\n",
            "77/77 [==============================] - 13s 168ms/step - loss: 1.5548 - mae: 1.9984\n",
            "Epoch 10/50\n",
            "77/77 [==============================] - 13s 163ms/step - loss: 1.5270 - mae: 1.9708\n",
            "Epoch 11/50\n",
            "77/77 [==============================] - 13s 175ms/step - loss: 1.5265 - mae: 1.9694\n",
            "Epoch 12/50\n",
            "77/77 [==============================] - 12s 159ms/step - loss: 1.5149 - mae: 1.9592\n",
            "Epoch 13/50\n",
            "77/77 [==============================] - 13s 164ms/step - loss: 1.5110 - mae: 1.9515\n",
            "Epoch 14/50\n",
            "77/77 [==============================] - 13s 163ms/step - loss: 1.5067 - mae: 1.9461\n",
            "Epoch 15/50\n",
            "77/77 [==============================] - 13s 165ms/step - loss: 1.5238 - mae: 1.9636\n",
            "Epoch 16/50\n",
            "77/77 [==============================] - 13s 167ms/step - loss: 1.4829 - mae: 1.9235\n",
            "Epoch 17/50\n",
            "77/77 [==============================] - 14s 175ms/step - loss: 1.4914 - mae: 1.9319\n",
            "Epoch 18/50\n",
            "77/77 [==============================] - 13s 171ms/step - loss: 1.4765 - mae: 1.9147\n",
            "Epoch 19/50\n",
            "77/77 [==============================] - 12s 162ms/step - loss: 1.4950 - mae: 1.9333\n",
            "Epoch 20/50\n",
            "77/77 [==============================] - 12s 159ms/step - loss: 1.4724 - mae: 1.9130\n",
            "Epoch 21/50\n",
            "77/77 [==============================] - 13s 164ms/step - loss: 1.4680 - mae: 1.9093\n",
            "Epoch 22/50\n",
            "77/77 [==============================] - 13s 166ms/step - loss: 1.4697 - mae: 1.9079\n",
            "Epoch 23/50\n",
            "77/77 [==============================] - 12s 161ms/step - loss: 1.4807 - mae: 1.9221\n",
            "Epoch 24/50\n",
            "77/77 [==============================] - 13s 163ms/step - loss: 1.4786 - mae: 1.9178\n",
            "Epoch 25/50\n",
            "77/77 [==============================] - 13s 163ms/step - loss: 1.4751 - mae: 1.9185\n",
            "Epoch 26/50\n",
            "77/77 [==============================] - 13s 166ms/step - loss: 1.4596 - mae: 1.8975\n",
            "Epoch 27/50\n",
            "77/77 [==============================] - 12s 158ms/step - loss: 1.4607 - mae: 1.8995\n",
            "Epoch 28/50\n",
            "77/77 [==============================] - 13s 175ms/step - loss: 1.4603 - mae: 1.9009\n",
            "Epoch 29/50\n",
            "77/77 [==============================] - 12s 160ms/step - loss: 1.4697 - mae: 1.9076\n",
            "Epoch 30/50\n",
            "77/77 [==============================] - 14s 181ms/step - loss: 1.4945 - mae: 1.9344\n",
            "Epoch 31/50\n",
            "77/77 [==============================] - 13s 169ms/step - loss: 1.4594 - mae: 1.8957\n",
            "Epoch 32/50\n",
            "77/77 [==============================] - 13s 163ms/step - loss: 1.4692 - mae: 1.9094\n",
            "Epoch 33/50\n",
            "77/77 [==============================] - 13s 164ms/step - loss: 1.4752 - mae: 1.9128\n",
            "Epoch 34/50\n",
            "77/77 [==============================] - 13s 163ms/step - loss: 1.4583 - mae: 1.8970\n",
            "Epoch 35/50\n",
            "77/77 [==============================] - 13s 163ms/step - loss: 1.4559 - mae: 1.8940\n",
            "Epoch 36/50\n",
            "77/77 [==============================] - 12s 159ms/step - loss: 1.4513 - mae: 1.8894\n",
            "Epoch 37/50\n",
            "77/77 [==============================] - 12s 158ms/step - loss: 1.4372 - mae: 1.8720\n",
            "Epoch 38/50\n",
            "77/77 [==============================] - 12s 156ms/step - loss: 1.4488 - mae: 1.8855\n",
            "Epoch 39/50\n",
            "77/77 [==============================] - 12s 160ms/step - loss: 1.4417 - mae: 1.8815\n",
            "Epoch 40/50\n",
            "77/77 [==============================] - 12s 161ms/step - loss: 1.4354 - mae: 1.8720\n",
            "Epoch 41/50\n",
            "77/77 [==============================] - 13s 163ms/step - loss: 1.4567 - mae: 1.8971\n",
            "Epoch 42/50\n",
            "77/77 [==============================] - 13s 167ms/step - loss: 1.4473 - mae: 1.8861\n",
            "Epoch 43/50\n",
            "77/77 [==============================] - 13s 170ms/step - loss: 1.4395 - mae: 1.8750\n",
            "Epoch 44/50\n",
            "77/77 [==============================] - 12s 160ms/step - loss: 1.4485 - mae: 1.8882\n",
            "Epoch 45/50\n",
            "77/77 [==============================] - 14s 176ms/step - loss: 1.4408 - mae: 1.8796\n",
            "Epoch 46/50\n",
            "77/77 [==============================] - 15s 193ms/step - loss: 1.4855 - mae: 1.9250\n",
            "Epoch 47/50\n",
            "77/77 [==============================] - 15s 201ms/step - loss: 1.4350 - mae: 1.8733\n",
            "Epoch 48/50\n",
            "77/77 [==============================] - 15s 193ms/step - loss: 1.4366 - mae: 1.8754\n",
            "Epoch 49/50\n",
            "77/77 [==============================] - 15s 189ms/step - loss: 1.4259 - mae: 1.8594\n",
            "Epoch 50/50\n",
            "77/77 [==============================] - 13s 166ms/step - loss: 1.4121 - mae: 1.8468\n"
          ]
        }
      ],
      "source": [
        "# Save an instance of the model\n",
        "model = create_model()\n",
        "\n",
        "# Train it\n",
        "history = model.fit(train_set, epochs=50)"
      ]
    },
    {
      "cell_type": "markdown",
      "metadata": {
        "id": "HHoHzcJiimTy"
      },
      "source": [
        "## Evaluating the forecast\n",
        "\n",
        "Now it is time to evaluate the performance of the forecast. For this you can use the `compute_metrics` function that you coded in a previous assignment:"
      ]
    },
    {
      "cell_type": "code",
      "execution_count": null,
      "metadata": {
        "deletable": false,
        "editable": false,
        "id": "kvJNcQy1imTy"
      },
      "outputs": [],
      "source": [
        "def compute_metrics(true_series, forecast):\n",
        "\n",
        "    mse = tf.keras.metrics.mean_squared_error(true_series, forecast).numpy()\n",
        "    mae = tf.keras.metrics.mean_absolute_error(true_series, forecast).numpy()\n",
        "\n",
        "    return mse, mae"
      ]
    },
    {
      "cell_type": "markdown",
      "metadata": {
        "id": "iDBTbu6dimTy"
      },
      "source": [
        "At this point only the model that will perform the forecast is ready but you still need to compute the actual forecast.\n",
        "\n"
      ]
    },
    {
      "cell_type": "markdown",
      "metadata": {
        "id": "PJthzmklimTy"
      },
      "source": [
        "## Faster model forecasts\n",
        "\n",
        "In the previous week you saw a faster approach compared to using a for loop to compute the forecasts for every point in the sequence. Remember that this faster approach uses batches of data.\n",
        "\n",
        "The code to implement this is provided in the `model_forecast` below. Notice that the code is very similar to the one in the `windowed_dataset` function with the differences that:\n",
        "- The dataset is windowed using `window_size` rather than `window_size + 1`\n",
        "- No shuffle should be used\n",
        "- No need to split the data into features and labels\n",
        "- A model is used to predict batches of the dataset"
      ]
    },
    {
      "cell_type": "code",
      "execution_count": null,
      "metadata": {
        "deletable": false,
        "editable": false,
        "id": "4XwGrf-A_wF0"
      },
      "outputs": [],
      "source": [
        "def model_forecast(model, series, window_size):\n",
        "    ds = tf.data.Dataset.from_tensor_slices(series)\n",
        "    ds = ds.window(window_size, shift=1, drop_remainder=True)\n",
        "    ds = ds.flat_map(lambda w: w.batch(window_size))\n",
        "    ds = ds.batch(32).prefetch(1)\n",
        "    forecast = model.predict(ds)\n",
        "    return forecast"
      ]
    },
    {
      "cell_type": "markdown",
      "metadata": {
        "id": "Aa6Jj6UCimTy"
      },
      "source": [
        "Now compute the actual forecast:\n",
        "\n",
        "**Note:** Don't modify the cell below.\n",
        "\n",
        "The grader uses the same slicing to get the forecast so if you change the cell below you risk having issues when submitting your model for grading."
      ]
    },
    {
      "cell_type": "code",
      "execution_count": null,
      "metadata": {
        "colab": {
          "base_uri": "https://localhost:8080/",
          "height": 389
        },
        "deletable": false,
        "editable": false,
        "id": "PrktQX3hKYex",
        "outputId": "1914662d-6bdd-4e17-8697-8f5a29e89b87"
      },
      "outputs": [
        {
          "data": {
            "image/png": "[encoded data removed]",
            "text/plain": [
              "<Figure size 720x432 with 1 Axes>"
            ]
          },
          "metadata": {
            "needs_background": "light"
          },
          "output_type": "display_data"
        }
      ],
      "source": [
        "# Compute the forecast for all the series\n",
        "rnn_forecast = model_forecast(model, G.SERIES, G.WINDOW_SIZE).squeeze()\n",
        "\n",
        "# Slice the forecast to get only the predictions for the validation set\n",
        "rnn_forecast = rnn_forecast[G.SPLIT_TIME - G.WINDOW_SIZE:-1]\n",
        "\n",
        "# Plot the forecast\n",
        "plt.figure(figsize=(10, 6))\n",
        "plot_series(time_valid, series_valid)\n",
        "plot_series(time_valid, rnn_forecast)"
      ]
    },
    {
      "cell_type": "code",
      "execution_count": null,
      "metadata": {
        "deletable": false,
        "editable": false,
        "id": "DSPbb_k7imTz",
        "outputId": "c4a21875-c3f2-4d8b-e3ca-29f2f39ef647"
      },
      "outputs": [
        {
          "name": "stdout",
          "output_type": "stream",
          "text": [
            "mse: 5.20, mae: 1.78 for forecast\n"
          ]
        }
      ],
      "source": [
        "mse, mae = compute_metrics(series_valid, rnn_forecast)\n",
        "\n",
        "print(f\"mse: {mse:.2f}, mae: {mae:.2f} for forecast\")"
      ]
    },
    {
      "cell_type": "markdown",
      "metadata": {
        "id": "HlkeXvesimTz"
      },
      "source": [
        "**To pass this assignment your forecast should achieve a MSE of 6 or less and a MAE of 2 or less.**\n",
        "\n",
        "- If your forecast didn't achieve this threshold try re-training your model with a different architecture (you will need to re-run both `create_uncompiled_model` and `create_model` functions) or tweaking the optimizer's parameters.\n",
        "\n",
        "\n",
        "- If your forecast did achieve this threshold run the following cell to save the model in the SavedModel format which will be used for grading and after doing so, submit your assigment for grading.\n",
        "\n",
        "\n",
        "- This environment includes a dummy SavedModel directory which contains a dummy model trained for one epoch. **To replace this file with your actual model you need to run the next cell before submitting for grading.**"
      ]
    },
    {
      "cell_type": "code",
      "execution_count": null,
      "metadata": {
        "deletable": false,
        "editable": false,
        "id": "C5_2A3vEimTz",
        "outputId": "42641393-461e-498a-d730-96a4d7615267"
      },
      "outputs": [
        {
          "name": "stdout",
          "output_type": "stream",
          "text": [
            "INFO:tensorflow:Assets written to: saved_model/my_model/assets\n"
          ]
        },
        {
          "name": "stderr",
          "output_type": "stream",
          "text": [
            "INFO:tensorflow:Assets written to: saved_model/my_model/assets\n"
          ]
        },
        {
          "name": "stdout",
          "output_type": "stream",
          "text": [
            "saved_model/\n",
            "saved_model/my_model/\n",
            "saved_model/my_model/keras_metadata.pb\n",
            "saved_model/my_model/variables/\n",
            "saved_model/my_model/variables/variables.data-00000-of-00001\n",
            "saved_model/my_model/variables/variables.index\n",
            "saved_model/my_model/saved_model.pb\n",
            "saved_model/my_model/assets/\n"
          ]
        }
      ],
      "source": [
        "# Save your model in the SavedModel format\n",
        "model.save('saved_model/my_model')\n",
        "\n",
        "# Compress the directory using tar\n",
        "! tar -czvf saved_model.tar.gz saved_model/"
      ]
    },
    {
      "cell_type": "markdown",
      "metadata": {
        "id": "yQ7CiBptimTz"
      },
      "source": [
        "**Congratulations on finishing this week's assignment!**\n",
        "\n",
        "You have successfully implemented a neural network capable of forecasting time series leveraging a combination of Tensorflow's layers such as Convolutional and LSTMs! This resulted in a forecast that surpasses all the ones you did previously.\n",
        "\n",
        "**By finishing this assignment you have finished the specialization! Give yourself a pat on the back!!!**"
      ]
    },
    {
      "cell_type": "markdown",
      "metadata": {
        "id": "8KBi5qDkimTz"
      },
      "source": [
        "<details>\n",
        "  <summary><font size=\"2\" color=\"darkgreen\"><b>Please click here if you want to experiment with any of the non-graded code.</b></font></summary>\n",
        "    <p><i><b>Important Note: Please only do this when you've already passed the assignment to avoid problems with the autograder.</b></i>\n",
        "    <ol>\n",
        "        <li> On the notebook’s menu, click “View” > “Cell Toolbar” > “Edit Metadata”</li>\n",
        "        <li> Hit the “Edit Metadata” button next to the code cell which you want to lock/unlock</li>\n",
        "        <li> Set the attribute value for “editable” to:\n",
        "            <ul>\n",
        "                <li> “true” if you want to unlock it </li>\n",
        "                <li> “false” if you want to lock it </li>\n",
        "            </ul>\n",
        "        </li>\n",
        "        <li> On the notebook’s menu, click “View” > “Cell Toolbar” > “None” </li>\n",
        "    </ol>\n",
        "    <p> Here's a short demo of how to do the steps above:\n",
        "        <br>\n",
        "        <img src=\"https://drive.google.com/uc?export=view&id=14Xy_Mb17CZVgzVAgq7NCjMVBvSae3xO1\" align=\"center\">\n",
        "</details>"
      ]
    }
  ],
  "metadata": {
    "kernelspec": {
      "display_name": "Python 3",
      "language": "python",
      "name": "python3"
    },
    "language_info": {
      "codemirror_mode": {
        "name": "ipython",
        "version": 3
      },
      "file_extension": ".py",
      "mimetype": "text/x-python",
      "name": "python",
      "nbconvert_exporter": "python",
      "pygments_lexer": "ipython3",
      "version": "3.8.8"
    },
    "colab": {
      "provenance": [],
      "include_colab_link": true
    }
  },
  "nbformat": 4,
  "nbformat_minor": 0
}